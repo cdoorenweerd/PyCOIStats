{
 "cells": [
  {
   "cell_type": "markdown",
   "metadata": {},
   "source": [
    "### interspecific calculations\n",
    "- calculate pairwise distances between all species in list a to all in list b and append to list_inter and list_inter_speciesab\n",
    "- Append smallest distance from list_inter_speciesab to list_Dmin_NN\n",
    "- iterate over all species list combinations\n",
    "- export list_inter and list_Dmin_NN to csv\n",
    "\n",
    "- use itertools: https://stackoverflow.com/questions/31206106/compare-each-item-of-two-lists-in-python\n",
    "- not going to work I think: https://stackoverflow.com/questions/28120527/python-pairwise-comparison-between-two-lists-list-a-list-b\n"
   ]
  },
  {
   "cell_type": "code",
   "execution_count": 1,
   "metadata": {},
   "outputs": [],
   "source": [
    "import numpy as np\n",
    "import pandas as pd\n",
    "from Bio.Alphabet import IUPAC, Gapped\n",
    "from Bio import SeqIO\n",
    "from Bio.Seq import Seq\n",
    "from Bio.SeqRecord import SeqRecord"
   ]
  },
  {
   "cell_type": "markdown",
   "metadata": {},
   "source": [
    "# Biopython\n",
    "\n",
    "basic syntax:\n",
    "- sequence = record.seq\n",
    "- id = record.id\n",
    "\n",
    "aln = AlignIO.read(open('test.fas'), 'fasta')\n",
    "\n",
    "print(aln)"
   ]
  },
  {
   "cell_type": "markdown",
   "metadata": {},
   "source": [
    "## IUPAC compatible p-distance calculator function [WORKS]\n",
    "\n",
    "Ignore IUPAC codes in comparison of two sequences (as strings)"
   ]
  },
  {
   "cell_type": "code",
   "execution_count": 13,
   "metadata": {},
   "outputs": [
    {
     "data": {
      "text/plain": [
       "0.125"
      ]
     },
     "execution_count": 13,
     "metadata": {},
     "output_type": "execute_result"
    }
   ],
   "source": [
    "def IUPACdistance(seq1, seq2):\n",
    "    ignorelist = [\"N\",\"?\",\"-\",\"M\",\"R\",\"W\",\"S\",\"Y\",\"K\",\"V\",\"H\",\"D\",\"B\"]\n",
    "    unamblengthseq1 = len(seq1.translate(str.maketrans('','','N?-MRWSYKVHDB')))\n",
    "    unamblengthseq2 = len(seq2.translate(str.maketrans('','','N?-MRWSYKVHDB')))\n",
    "    comparedlength = min(unamblengthseq1, unamblengthseq2)\n",
    "    difference = 0\n",
    "    for x, y in zip(seq1.upper(), seq2.upper()):\n",
    "        if x in ignorelist or y in ignorelist:\n",
    "            difference += 0\n",
    "        elif x != y:\n",
    "            difference += 1\n",
    "    dpairwise = (difference / comparedlength)\n",
    "    return dpairwise\n",
    "\n",
    "seq1 = 'AARCTGACACT'\n",
    "seq2 = 'TRCCTGN-ACT'\n",
    "\n",
    "IUPACdistance(seq1, seq2)"
   ]
  },
  {
   "cell_type": "markdown",
   "metadata": {},
   "source": [
    "## list of species function [WORKS]"
   ]
  },
  {
   "cell_type": "code",
   "execution_count": 10,
   "metadata": {
    "scrolled": true
   },
   "outputs": [
    {
     "name": "stdout",
     "output_type": "stream",
     "text": [
      "30 species in charactermatrix.\n"
     ]
    },
    {
     "data": {
      "text/plain": [
       "['Phyllonorycter_issikii',\n",
       " 'Phyllonorycter_ulmifoliella',\n",
       " 'Phyllonorycter_spinicolella',\n",
       " 'Cameraria_ohridella',\n",
       " 'Caloptilia_staintoni',\n",
       " 'Phyllonorycter_corylifoliella',\n",
       " 'Caloptilia_braccatella',\n",
       " 'Caloptilia_flava',\n",
       " 'Povolnya_leucapennella',\n",
       " 'Aristaea_pavoniella',\n",
       " 'Phyllonorycter_kuhlweiniella',\n",
       " 'Phyllonorycter_muelleriella',\n",
       " 'Phyllonorycter_acerifoliella',\n",
       " 'Triberta_helianthemella',\n",
       " 'Phyllonorycter_alpina',\n",
       " 'Phyllonorycter_AlnuscordataItaly',\n",
       " 'Phyllocnistis_xenia',\n",
       " 'Parornix_torquillella',\n",
       " 'Phyllonorycter_abrasella',\n",
       " 'Caloptilia_cuculipennella',\n",
       " 'Aspilapteryx_tringipennella',\n",
       " 'Leucospilapteryx_omissella',\n",
       " 'Dialectica_imperialella',\n",
       " 'Caloptilia_elongella',\n",
       " 'Phyllonorycter_hilarella',\n",
       " 'Phyllocnistis_unipunctella',\n",
       " 'Phyllonorycter_trifasciella',\n",
       " 'Parornix_polygrammella',\n",
       " 'Phyllonorycter_nicellii',\n",
       " 'Parornix_loganella']"
      ]
     },
     "execution_count": 10,
     "metadata": {},
     "output_type": "execute_result"
    }
   ],
   "source": [
    "def createlistofspecies(inputfile, fileformat):\n",
    "    sequences = SeqIO.parse(inputfile, fileformat, alphabet=IUPAC.ambiguous_dna)\n",
    "    listofspecies = []\n",
    "    for record in sequences:\n",
    "        speciesname = (record.id.split(\".\")[1])\n",
    "        if speciesname not in listofspecies:\n",
    "            listofspecies.append(speciesname)\n",
    "    print(str(len(listofspecies)) + \" species in charactermatrix.\")\n",
    "    return listofspecies\n",
    "\n",
    "createlistofspecies('test.fas','fasta')"
   ]
  },
  {
   "cell_type": "markdown",
   "metadata": {},
   "source": [
    "## list of records per species snippet [WORKS]"
   ]
  },
  {
   "cell_type": "code",
   "execution_count": 116,
   "metadata": {},
   "outputs": [
    {
     "name": "stdout",
     "output_type": "stream",
     "text": [
      "Phyllonorycter_issikii\n",
      "[SeqRecord(seq=Seq('ACTCTCTATTTTATTTTTGGAATCTGAGCAGGAATAATTGGATCTTCTTTAAGA...NNN', IUPACAmbiguousDNA()), id='ISSIK249N14.Phyllonorycter_issikii', name='ISSIK249N14.Phyllonorycter_issikii', description='ISSIK249N14.Phyllonorycter_issikii', dbxrefs=[])]\n",
      "Phyllonorycter_ulmifoliella\n",
      "[SeqRecord(seq=Seq('ACTCTTTATTTTATTTTTGGAATTTGAGCAGGAATAATTGGATCTTCTTTAAGA...TTA', IUPACAmbiguousDNA()), id='LNAUV1219N17.Phyllonorycter_ulmifoliella', name='LNAUV1219N17.Phyllonorycter_ulmifoliella', description='LNAUV1219N17.Phyllonorycter_ulmifoliella', dbxrefs=[])]\n",
      "Phyllonorycter_spinicolella\n",
      "[SeqRecord(seq=Seq('ACTCTTTATTTTATTTTTGGAATTTGAGCAGGAATAATTGGATCCTCTTTAAGA...TTA', IUPACAmbiguousDNA()), id='LNAUV1218N17.Phyllonorycter_spinicolella', name='LNAUV1218N17.Phyllonorycter_spinicolella', description='LNAUV1218N17.Phyllonorycter_spinicolella', dbxrefs=[])]\n",
      "Cameraria_ohridella\n",
      "[SeqRecord(seq=Seq('ACTTTATATTTTATTTTTGGAATTTGAGCAGGAATAGTTGGTTCATCTTTAAGA...TTA', IUPACAmbiguousDNA()), id='LNAUV1198N17.Cameraria_ohridella', name='LNAUV1198N17.Cameraria_ohridella', description='LNAUV1198N17.Cameraria_ohridella', dbxrefs=[])]\n",
      "Caloptilia_staintoni\n",
      "[SeqRecord(seq=Seq('ACTTTATATTTTATTTTTGGAATTTGATCAGGGATAGTAGGAACATCTTTAAGA...TTA', IUPACAmbiguousDNA()), id='LNAUV1190N17.Caloptilia_staintoni', name='LNAUV1190N17.Caloptilia_staintoni', description='LNAUV1190N17.Caloptilia_staintoni', dbxrefs=[]), SeqRecord(seq=Seq('ACTTTATATTTTATTTTTGGAATTTGATCAGGAATAGTAGGAACATCTTTAAGA...TTA', IUPACAmbiguousDNA()), id='LNAUV1189N17.Caloptilia_staintoni', name='LNAUV1189N17.Caloptilia_staintoni', description='LNAUV1189N17.Caloptilia_staintoni', dbxrefs=[]), SeqRecord(seq=Seq('ACTTTATATTTTATTTTTGGAATTTGATCAGGGATAGTAGGAACATCTTTAAGA...TTA', IUPACAmbiguousDNA()), id='LNAUV1188N17.Caloptilia_staintoni', name='LNAUV1188N17.Caloptilia_staintoni', description='LNAUV1188N17.Caloptilia_staintoni', dbxrefs=[])]\n",
      "Phyllonorycter_corylifoliella\n",
      "[SeqRecord(seq=Seq('ACTCTTTATTTTATTTTTGGAATTTGAGCAGGAATAATTGGATCTTCTTTAAGA...TTG', IUPACAmbiguousDNA()), id='LNAUV1285N17.Phyllonorycter_corylifoliella', name='LNAUV1285N17.Phyllonorycter_corylifoliella', description='LNAUV1285N17.Phyllonorycter_corylifoliella', dbxrefs=[]), SeqRecord(seq=Seq('ACTCTTTATTTTATTTTTGGAATTTGAGCAGGAATAATTGGATCTTCTTTAAGA...TTA', IUPACAmbiguousDNA()), id='LNAUV1284N17.Phyllonorycter_corylifoliella', name='LNAUV1284N17.Phyllonorycter_corylifoliella', description='LNAUV1284N17.Phyllonorycter_corylifoliella', dbxrefs=[]), SeqRecord(seq=Seq('ACTCTTTATTTTATTTTTGGAATTTGAGCAGGAATAATTGGATCTTCTTTAAGA...TTA', IUPACAmbiguousDNA()), id='LNAUV1283N17.Phyllonorycter_corylifoliella', name='LNAUV1283N17.Phyllonorycter_corylifoliella', description='LNAUV1283N17.Phyllonorycter_corylifoliella', dbxrefs=[]), SeqRecord(seq=Seq('ACTCTTTATTTTATTTTTGGAATTTGAGCAGGAATAATTGGATCTTCTTTAAGA...TTA', IUPACAmbiguousDNA()), id='LNAUV1248N17.Phyllonorycter_corylifoliella', name='LNAUV1248N17.Phyllonorycter_corylifoliella', description='LNAUV1248N17.Phyllonorycter_corylifoliella', dbxrefs=[]), SeqRecord(seq=Seq('ACTCTTTATTTTATTTTTGGAATTTGAGCAGGAATAATTGGATCTTCTTTAAGA...TTA', IUPACAmbiguousDNA()), id='LNAUV1247N17.Phyllonorycter_corylifoliella', name='LNAUV1247N17.Phyllonorycter_corylifoliella', description='LNAUV1247N17.Phyllonorycter_corylifoliella', dbxrefs=[]), SeqRecord(seq=Seq('ACTCTTTATTTTATTTTTGGAATTTGAGCAGGAATAATTGGATCTTCTTTAAGA...TTA', IUPACAmbiguousDNA()), id='LNAUV1246N17.Phyllonorycter_corylifoliella', name='LNAUV1246N17.Phyllonorycter_corylifoliella', description='LNAUV1246N17.Phyllonorycter_corylifoliella', dbxrefs=[])]\n",
      "Caloptilia_braccatella\n",
      "[SeqRecord(seq=Seq('ACATTATACTTTATTTTTGGAATTTGATCTGGAATACTAGGAACCTCTTTAAGA...TTA', IUPACAmbiguousDNA()), id='LNAUV1156N17.Caloptilia_braccatella', name='LNAUV1156N17.Caloptilia_braccatella', description='LNAUV1156N17.Caloptilia_braccatella', dbxrefs=[]), SeqRecord(seq=Seq('ACATTATACTTTATTTTTGGAATTTGATCTGGAATACTAGGAACCTCTTTAAGA...NNN', IUPACAmbiguousDNA()), id='LNAUV1158N17.Caloptilia_braccatella', name='LNAUV1158N17.Caloptilia_braccatella', description='LNAUV1158N17.Caloptilia_braccatella', dbxrefs=[]), SeqRecord(seq=Seq('ACATTATACTTTATTTTTGGAATTTGATCTGGAATACTAGGAACCTCTTTAAGA...TTA', IUPACAmbiguousDNA()), id='LNAUV1157N17.Caloptilia_braccatella', name='LNAUV1157N17.Caloptilia_braccatella', description='LNAUV1157N17.Caloptilia_braccatella', dbxrefs=[])]\n",
      "Caloptilia_flava\n",
      "[SeqRecord(seq=Seq('ACTCTTTATTTTATTTTTGGAATCTGATCAGGAATACTAGGAACTTCTTTAAGA...CTA', IUPACAmbiguousDNA()), id='LNAUV1170N17.Caloptilia_flava', name='LNAUV1170N17.Caloptilia_flava', description='LNAUV1170N17.Caloptilia_flava', dbxrefs=[]), SeqRecord(seq=Seq('ACTCTTTATTTTATTTTTGGAATCTGATCAGGAATACTAGGAACTTCTTTAAGA...CTA', IUPACAmbiguousDNA()), id='LNAUV1169N17.Caloptilia_flava', name='LNAUV1169N17.Caloptilia_flava', description='LNAUV1169N17.Caloptilia_flava', dbxrefs=[])]\n",
      "Povolnya_leucapennella\n",
      "[SeqRecord(seq=Seq('ACTCTCTACTTTATTTTCGGAATTTGATCTGGAATATTAGGAACATCTTTAAGT...TTA', IUPACAmbiguousDNA()), id='LNAUV1294N17.Povolnya_leucapennella', name='LNAUV1294N17.Povolnya_leucapennella', description='LNAUV1294N17.Povolnya_leucapennella', dbxrefs=[])]\n",
      "Aristaea_pavoniella\n",
      "[SeqRecord(seq=Seq('ACATTATATTTTATTTTTGGAATTTGATCTGGAATATTAGGAACTTCTTTAAGA...NNN', IUPACAmbiguousDNA()), id='LNAUV1154N17.Aristaea_pavoniella', name='LNAUV1154N17.Aristaea_pavoniella', description='LNAUV1154N17.Aristaea_pavoniella', dbxrefs=[])]\n",
      "Phyllonorycter_kuhlweiniella\n",
      "[SeqRecord(seq=Seq('ACTCTTTATTTTATTTTTGGAATTTGAGCAGGAATAATTGGATCTTCTTTAAGA...TTA', IUPACAmbiguousDNA()), id='LNAUV1278N17.Phyllonorycter_kuhlweiniella', name='LNAUV1278N17.Phyllonorycter_kuhlweiniella', description='LNAUV1278N17.Phyllonorycter_kuhlweiniella', dbxrefs=[]), SeqRecord(seq=Seq('ACTCTTTATTTTATTTTTGGAATTTGAGCAGGAATAATTGGATCTTCTTTAAGA...TTA', IUPACAmbiguousDNA()), id='LNAUV1277N17.Phyllonorycter_kuhlweiniella', name='LNAUV1277N17.Phyllonorycter_kuhlweiniella', description='LNAUV1277N17.Phyllonorycter_kuhlweiniella', dbxrefs=[])]\n",
      "Phyllonorycter_muelleriella\n",
      "[SeqRecord(seq=Seq('ACTCTTTATTTTATTTTTGGAATTTGAGCAGGAATAATTGGATCTTCTTTAAGA...TTA', IUPACAmbiguousDNA()), id='LNAUV1276N17.Phyllonorycter_muelleriella', name='LNAUV1276N17.Phyllonorycter_muelleriella', description='LNAUV1276N17.Phyllonorycter_muelleriella', dbxrefs=[])]\n",
      "Phyllonorycter_acerifoliella\n",
      "[SeqRecord(seq=Seq('ACTCTTTATTTTATTTTTGGAATTTGAGCAGGAATAATTGGATCTTCTCTAAGA...TTA', IUPACAmbiguousDNA()), id='LNAUV1275N17.Phyllonorycter_acerifoliella', name='LNAUV1275N17.Phyllonorycter_acerifoliella', description='LNAUV1275N17.Phyllonorycter_acerifoliella', dbxrefs=[])]\n",
      "Triberta_helianthemella\n",
      "[SeqRecord(seq=Seq('ACTTTATATTTTATTTTTGGAATCTGATCAGGAATAGTAGGATCTTCTTTAAGA...TTA', IUPACAmbiguousDNA()), id='LNAUV1267N17.Triberta_helianthemella', name='LNAUV1267N17.Triberta_helianthemella', description='LNAUV1267N17.Triberta_helianthemella', dbxrefs=[]), SeqRecord(seq=Seq('ACTTTATATTTTATTTTTGGAATCTGATCAGGAATAGTAGGATCTTCTTTAAGA...TTA', IUPACAmbiguousDNA()), id='LNAUV1266N17.Triberta_helianthemella', name='LNAUV1266N17.Triberta_helianthemella', description='LNAUV1266N17.Triberta_helianthemella', dbxrefs=[]), SeqRecord(seq=Seq('ACTTTATATTTTATTTTTGGAATCTGATCAGGAATAGTAGGATCTTCTTTAAGA...TTA', IUPACAmbiguousDNA()), id='LNAUV1265N17.Triberta_helianthemella', name='LNAUV1265N17.Triberta_helianthemella', description='LNAUV1265N17.Triberta_helianthemella', dbxrefs=[])]\n",
      "Phyllonorycter_alpina\n",
      "[SeqRecord(seq=Seq('ACTCTTTATTTCATTTTTGGAATTTGAGCAGGAATAATCGGATCTTCATTAAGA...TTA', IUPACAmbiguousDNA()), id='LNAUV1263N17.Phyllonorycter_alpina', name='LNAUV1263N17.Phyllonorycter_alpina', description='LNAUV1263N17.Phyllonorycter_alpina', dbxrefs=[]), SeqRecord(seq=Seq('ACTCTTTATTTCATTTTTGGAATTTGAGCAGGAATAATCGGATCTTCATTAAGA...TTA', IUPACAmbiguousDNA()), id='LNAUV1262N17.Phyllonorycter_alpina', name='LNAUV1262N17.Phyllonorycter_alpina', description='LNAUV1262N17.Phyllonorycter_alpina', dbxrefs=[])]\n",
      "Phyllonorycter_AlnuscordataItaly\n",
      "[SeqRecord(seq=Seq('ACTCTTTATTTTATTTTTGGGATTTGAGCAGGAATAATTGGATCTTCATTAAGA...CTA', IUPACAmbiguousDNA()), id='LNAUV1245N17.Phyllonorycter_AlnuscordataItaly', name='LNAUV1245N17.Phyllonorycter_AlnuscordataItaly', description='LNAUV1245N17.Phyllonorycter_AlnuscordataItaly', dbxrefs=[]), SeqRecord(seq=Seq('ACTCTTTATTTTATTTTTGGGATTTGAGCAGGAATAATTGGATCTTCATTAAGA...CTA', IUPACAmbiguousDNA()), id='LNAUV1244N17.Phyllonorycter_AlnuscordataItaly', name='LNAUV1244N17.Phyllonorycter_AlnuscordataItaly', description='LNAUV1244N17.Phyllonorycter_AlnuscordataItaly', dbxrefs=[])]\n",
      "Phyllocnistis_xenia\n",
      "[SeqRecord(seq=Seq('ACTTTATATTTCTTATTTGGAATTTGATCAGGTATAGTTGGTACTTCTTTAAGT...TTA', IUPACAmbiguousDNA()), id='LNAUV1237N17.Phyllocnistis_xenia', name='LNAUV1237N17.Phyllocnistis_xenia', description='LNAUV1237N17.Phyllocnistis_xenia', dbxrefs=[])]\n",
      "Parornix_torquillella\n",
      "[SeqRecord(seq=Seq('ACTTTATATTTTATTTTTGGAATTTGATCAGGGATAGTAGGAACTTCTTTAAGA...TTA', IUPACAmbiguousDNA()), id='LEASS230N16.Parornix_torquillella', name='LEASS230N16.Parornix_torquillella', description='LEASS230N16.Parornix_torquillella', dbxrefs=[])]\n",
      "Phyllonorycter_abrasella\n",
      "[SeqRecord(seq=Seq('ACTCTTTATTTTATTTTTGGAATTTGAGCAGGAATAATTGGATCCTCTTTAAGA...TTA', IUPACAmbiguousDNA()), id='LEASS227N16.Phyllonorycter_abrasella', name='LEASS227N16.Phyllonorycter_abrasella', description='LEASS227N16.Phyllonorycter_abrasella', dbxrefs=[])]\n",
      "Caloptilia_cuculipennella\n",
      "[SeqRecord(seq=Seq('ACTCTTTATTTTATTTTTGGTATTTGATCTGGAATAGTAGGAACTTCTTTAAGA...TTA', IUPACAmbiguousDNA()), id='LEASS223N16.Caloptilia_cuculipennella', name='LEASS223N16.Caloptilia_cuculipennella', description='LEASS223N16.Caloptilia_cuculipennella', dbxrefs=[])]\n",
      "Aspilapteryx_tringipennella\n",
      "[SeqRecord(seq=Seq('ACTCTTTATTTTATTTTTGGTATTTGATCTGGTATAATTGGAACTTCTTTAAGA...TTA', IUPACAmbiguousDNA()), id='LEASS229N16.Aspilapteryx_tringipennella', name='LEASS229N16.Aspilapteryx_tringipennella', description='LEASS229N16.Aspilapteryx_tringipennella', dbxrefs=[])]\n",
      "Leucospilapteryx_omissella\n",
      "[SeqRecord(seq=Seq('ACCTTATATTTTATCTTCGGAATTTGATCAGGAATAGTCGGAACATCTTTAAGT...TTA', IUPACAmbiguousDNA()), id='LEAFN070N13.Leucospilapteryx_omissella', name='LEAFN070N13.Leucospilapteryx_omissella', description='LEAFN070N13.Leucospilapteryx_omissella', dbxrefs=[]), SeqRecord(seq=Seq('ACCTTATATTTTATCTTCGGAATTTGATCAGGAATAGTCGGAACATCTTTAAGT...TTA', IUPACAmbiguousDNA()), id='LEAFN013N13.Leucospilapteryx_omissella', name='LEAFN013N13.Leucospilapteryx_omissella', description='LEAFN013N13.Leucospilapteryx_omissella', dbxrefs=[])]\n",
      "Dialectica_imperialella\n",
      "[SeqRecord(seq=Seq('ACATTATATTTTATTTTTGGGATCTGAGCAGGAATAGTAGGAACATCATTAAGA...TTA', IUPACAmbiguousDNA()), id='LEAFN066N13.Dialectica_imperialella', name='LEAFN066N13.Dialectica_imperialella', description='LEAFN066N13.Dialectica_imperialella', dbxrefs=[])]\n",
      "Caloptilia_elongella\n",
      "[SeqRecord(seq=Seq('ACTCTTTATTTTATTTTTGGAATTTGATCTGGTATATTAGGAACTTCTTTAAGA...TTA', IUPACAmbiguousDNA()), id='LEAFN058N13.Caloptilia_elongella', name='LEAFN058N13.Caloptilia_elongella', description='LEAFN058N13.Caloptilia_elongella', dbxrefs=[])]\n",
      "Phyllonorycter_hilarella\n",
      "[SeqRecord(seq=Seq('NNNNNNNNNNNNNNNTTTGGAATTTGAGCAGGAATAATTGGATCTTCATTAAGA...TTA', IUPACAmbiguousDNA()), id='LON6761N18.Phyllonorycter_hilarella', name='LON6761N18.Phyllonorycter_hilarella', description='LON6761N18.Phyllonorycter_hilarella', dbxrefs=[])]\n",
      "Phyllocnistis_unipunctella\n",
      "[SeqRecord(seq=Seq('NNNNNNNNNNNNNNNNNNNNNNNNNNNNNNNNNATAGTAGGAACTTCATTAAGA...TTA', IUPACAmbiguousDNA()), id='LON4479N16.Phyllocnistis_unipunctella', name='LON4479N16.Phyllocnistis_unipunctella', description='LON4479N16.Phyllocnistis_unipunctella', dbxrefs=[])]\n",
      "Phyllonorycter_trifasciella\n",
      "[SeqRecord(seq=Seq('NNNNNNNNNNNNNNNNNNNNNNNNTGAGCAGGAATAATTGGATCTTCTTTAAGA...NNN', IUPACAmbiguousDNA()), id='LON4477N16.Phyllonorycter_trifasciella', name='LON4477N16.Phyllonorycter_trifasciella', description='LON4477N16.Phyllonorycter_trifasciella', dbxrefs=[])]\n",
      "Parornix_polygrammella\n",
      "[SeqRecord(seq=Seq('ACTTTATATTTTATTTTTGGTATTTGATCAGGAATAGTAGGAACATCTTTAAGA...TTA', IUPACAmbiguousDNA()), id='LON4474N16.Parornix_polygrammella', name='LON4474N16.Parornix_polygrammella', description='LON4474N16.Parornix_polygrammella', dbxrefs=[])]\n",
      "Phyllonorycter_nicellii\n",
      "[SeqRecord(seq=Seq('ACTCTTTATTTTATTTTTGGAATTTGAGCAGGAATAATTGGATCCTCTTTAAGA...TTA', IUPACAmbiguousDNA()), id='LON6751N18.Phyllonorycter_nicellii', name='LON6751N18.Phyllonorycter_nicellii', description='LON6751N18.Phyllonorycter_nicellii', dbxrefs=[])]\n",
      "Parornix_loganella\n",
      "[SeqRecord(seq=Seq('NNNNNNNNNNNNNNNNNNNNNNNNNNNNNNNNNNNNNNNNNNNNNTCTTTAANA...NNN', IUPACAmbiguousDNA()), id='LON4467N16.Parornix_loganella', name='LON4467N16.Parornix_loganella', description='LON4467N16.Parornix_loganella', dbxrefs=[])]\n"
     ]
    }
   ],
   "source": [
    "for speciesname in listofspecies:\n",
    "    print(speciesname)\n",
    "    speciessamples = []\n",
    "    sequences = SeqIO.parse('test.fas', 'fasta', alphabet=IUPAC.ambiguous_dna)\n",
    "    for record in sequences:\n",
    "        if (record.id.split(\".\")[1]) == speciesname:\n",
    "            speciessamples.append(record)\n",
    "    print(speciessamples)"
   ]
  },
  {
   "cell_type": "code",
   "execution_count": null,
   "metadata": {},
   "outputs": [],
   "source": []
  },
  {
   "cell_type": "markdown",
   "metadata": {},
   "source": [
    "## Pairwise distances within species [WORKS]\n",
    "\n",
    "- Outputs Dmax\n",
    "- Outputs all instraspecific values"
   ]
  },
  {
   "cell_type": "code",
   "execution_count": 24,
   "metadata": {
    "scrolled": true
   },
   "outputs": [
    {
     "name": "stdout",
     "output_type": "stream",
     "text": [
      "30 species in charactermatrix.\n"
     ]
    },
    {
     "data": {
      "text/html": [
       "<div>\n",
       "<style scoped>\n",
       "    .dataframe tbody tr th:only-of-type {\n",
       "        vertical-align: middle;\n",
       "    }\n",
       "\n",
       "    .dataframe tbody tr th {\n",
       "        vertical-align: top;\n",
       "    }\n",
       "\n",
       "    .dataframe thead th {\n",
       "        text-align: right;\n",
       "    }\n",
       "</style>\n",
       "<table border=\"1\" class=\"dataframe\">\n",
       "  <thead>\n",
       "    <tr style=\"text-align: right;\">\n",
       "      <th></th>\n",
       "      <th>species_intra</th>\n",
       "    </tr>\n",
       "  </thead>\n",
       "  <tbody>\n",
       "    <tr>\n",
       "      <td>0</td>\n",
       "      <td>0.012389</td>\n",
       "    </tr>\n",
       "    <tr>\n",
       "      <td>1</td>\n",
       "      <td>0.003540</td>\n",
       "    </tr>\n",
       "    <tr>\n",
       "      <td>2</td>\n",
       "      <td>0.008850</td>\n",
       "    </tr>\n",
       "    <tr>\n",
       "      <td>3</td>\n",
       "      <td>0.057245</td>\n",
       "    </tr>\n",
       "    <tr>\n",
       "      <td>4</td>\n",
       "      <td>0.053667</td>\n",
       "    </tr>\n",
       "    <tr>\n",
       "      <td>5</td>\n",
       "      <td>0.021798</td>\n",
       "    </tr>\n",
       "    <tr>\n",
       "      <td>6</td>\n",
       "      <td>0.052863</td>\n",
       "    </tr>\n",
       "    <tr>\n",
       "      <td>7</td>\n",
       "      <td>0.012376</td>\n",
       "    </tr>\n",
       "    <tr>\n",
       "      <td>8</td>\n",
       "      <td>0.006116</td>\n",
       "    </tr>\n",
       "    <tr>\n",
       "      <td>9</td>\n",
       "      <td>0.051771</td>\n",
       "    </tr>\n",
       "    <tr>\n",
       "      <td>10</td>\n",
       "      <td>0.008811</td>\n",
       "    </tr>\n",
       "    <tr>\n",
       "      <td>11</td>\n",
       "      <td>0.051980</td>\n",
       "    </tr>\n",
       "    <tr>\n",
       "      <td>12</td>\n",
       "      <td>0.043597</td>\n",
       "    </tr>\n",
       "    <tr>\n",
       "      <td>13</td>\n",
       "      <td>0.004405</td>\n",
       "    </tr>\n",
       "    <tr>\n",
       "      <td>14</td>\n",
       "      <td>0.042079</td>\n",
       "    </tr>\n",
       "    <tr>\n",
       "      <td>15</td>\n",
       "      <td>0.043597</td>\n",
       "    </tr>\n",
       "    <tr>\n",
       "      <td>16</td>\n",
       "      <td>0.005450</td>\n",
       "    </tr>\n",
       "    <tr>\n",
       "      <td>17</td>\n",
       "      <td>0.042079</td>\n",
       "    </tr>\n",
       "    <tr>\n",
       "      <td>18</td>\n",
       "      <td>0.003205</td>\n",
       "    </tr>\n",
       "    <tr>\n",
       "      <td>19</td>\n",
       "      <td>0.000000</td>\n",
       "    </tr>\n",
       "    <tr>\n",
       "      <td>20</td>\n",
       "      <td>0.003205</td>\n",
       "    </tr>\n",
       "    <tr>\n",
       "      <td>21</td>\n",
       "      <td>0.000000</td>\n",
       "    </tr>\n",
       "    <tr>\n",
       "      <td>22</td>\n",
       "      <td>0.000000</td>\n",
       "    </tr>\n",
       "    <tr>\n",
       "      <td>23</td>\n",
       "      <td>0.004963</td>\n",
       "    </tr>\n",
       "    <tr>\n",
       "      <td>24</td>\n",
       "      <td>0.000000</td>\n",
       "    </tr>\n",
       "    <tr>\n",
       "      <td>25</td>\n",
       "      <td>0.004963</td>\n",
       "    </tr>\n",
       "    <tr>\n",
       "      <td>26</td>\n",
       "      <td>0.001770</td>\n",
       "    </tr>\n",
       "    <tr>\n",
       "      <td>27</td>\n",
       "      <td>0.000000</td>\n",
       "    </tr>\n",
       "    <tr>\n",
       "      <td>28</td>\n",
       "      <td>0.001529</td>\n",
       "    </tr>\n",
       "  </tbody>\n",
       "</table>\n",
       "</div>"
      ],
      "text/plain": [
       "    species_intra\n",
       "0        0.012389\n",
       "1        0.003540\n",
       "2        0.008850\n",
       "3        0.057245\n",
       "4        0.053667\n",
       "5        0.021798\n",
       "6        0.052863\n",
       "7        0.012376\n",
       "8        0.006116\n",
       "9        0.051771\n",
       "10       0.008811\n",
       "11       0.051980\n",
       "12       0.043597\n",
       "13       0.004405\n",
       "14       0.042079\n",
       "15       0.043597\n",
       "16       0.005450\n",
       "17       0.042079\n",
       "18       0.003205\n",
       "19       0.000000\n",
       "20       0.003205\n",
       "21       0.000000\n",
       "22       0.000000\n",
       "23       0.004963\n",
       "24       0.000000\n",
       "25       0.004963\n",
       "26       0.001770\n",
       "27       0.000000\n",
       "28       0.001529"
      ]
     },
     "execution_count": 24,
     "metadata": {},
     "output_type": "execute_result"
    }
   ],
   "source": [
    "inputfile = 'test.fas'\n",
    "dmax_outputfile = 'dmax.csv'\n",
    "speciesintra_outputfile = 'species_intra.csv'\n",
    "\n",
    "listofspecies = createlistofspecies('test.fas','fasta')\n",
    "\n",
    "dmaxvalues = []\n",
    "allintra = []\n",
    "for speciesname in listofspecies:\n",
    "    recordlist = []\n",
    "    distancelist = []\n",
    "    sequences = SeqIO.parse(inputfile, 'fasta', alphabet=IUPAC.ambiguous_dna)\n",
    "    for record in sequences:\n",
    "        if (record.id.split(\".\")[1]) == speciesname:        \n",
    "            recordlist.append(record)\n",
    "    if len(recordlist) > 1:\n",
    "        for a, b in itertools.combinations(recordlist, 2):\n",
    "            distancelist.append(IUPACdistance(str(a.seq), str(b.seq)))        \n",
    "        dmaxvalues.append({'species': speciesname,\n",
    "                           'n_seqs': len(recordlist),\n",
    "                           'dmax': max(distancelist)})\n",
    "        allintra.append(distancelist)\n",
    "    else:\n",
    "        dmaxvalues.append({'species': speciesname, 'n_seqs': len(recordlist)})\n",
    "\n",
    "df_dmax = pd.DataFrame(dmaxvalues)\n",
    "df_dmax\n",
    "#totaldf.to_csv(dmax_outputfile, index=False)\n",
    "\n",
    "flat_allintra = [item for sublist in allintra for item in sublist]\n",
    "df_intra = pd.DataFrame(flat_allintra)\n",
    "df_intra.rename(columns={0:'species_intra'}, inplace=True)\n",
    "df_intra\n",
    "#df_intra.to_csv(speciesintra_outputfile, index=False)"
   ]
  },
  {
   "cell_type": "markdown",
   "metadata": {},
   "source": [
    "## Haplotype counter [WORKS]"
   ]
  },
  {
   "cell_type": "markdown",
   "metadata": {},
   "source": [
    "## Inter pairwise comparisons [To do]"
   ]
  },
  {
   "cell_type": "markdown",
   "metadata": {},
   "source": [
    "- make recordlists for all species in listofspecies\n",
    "- compare all sequences against each other and for each species make dict entry for NN?"
   ]
  },
  {
   "cell_type": "code",
   "execution_count": null,
   "metadata": {},
   "outputs": [],
   "source": []
  },
  {
   "cell_type": "markdown",
   "metadata": {},
   "source": [
    "Verbose version of the function to compare sequence1 to sequence2 allowing for IUPAC ambiguities"
   ]
  },
  {
   "cell_type": "code",
   "execution_count": 14,
   "metadata": {},
   "outputs": [
    {
     "name": "stdout",
     "output_type": "stream",
     "text": [
      "seq1 bp: 10\n",
      "seq2 bp: 8\n",
      "compared length: 8\n",
      "difference:1\n"
     ]
    },
    {
     "data": {
      "text/plain": [
       "0.125"
      ]
     },
     "execution_count": 14,
     "metadata": {},
     "output_type": "execute_result"
    }
   ],
   "source": [
    "def IUPACdistance_verbose(seq1, seq2):\n",
    "    ignorelist = [\"N\",\"?\",\"-\",\"M\",\"R\",\"W\",\"S\",\"Y\",\"K\",\"V\",\"H\",\"D\",\"B\"]\n",
    "    unamblengthseq1 = len(seq1.translate(str.maketrans('','','N?-MRWSYKVHDB')))\n",
    "    print(\"seq1 bp: \" + str(unamblengthseq1))\n",
    "    unamblengthseq2 = len(seq2.translate(str.maketrans('','','N?-MRWSYKVHDB')))\n",
    "    print(\"seq2 bp: \" + str(unamblengthseq2))\n",
    "    comparedlength = min(unamblengthseq1, unamblengthseq2)\n",
    "    print(\"compared length: \" + str(comparedlength))\n",
    "    difference = 0\n",
    "    for x, y in zip(seq1.upper(), seq2.upper()):\n",
    "        if x in ignorelist or y in ignorelist:\n",
    "            difference += 0\n",
    "        elif x != y:\n",
    "            difference += 1\n",
    "    print(\"difference:\" + str(difference))\n",
    "    dpairwise = (difference / comparedlength)\n",
    "    return dpairwise \n",
    "\n",
    "seq1 = 'AARCTGACACT'\n",
    "seq2 = 'TRCCTGN-ACT'\n",
    "\n",
    "IUPACdistance_verbose(seq1, seq2)"
   ]
  },
  {
   "cell_type": "code",
   "execution_count": null,
   "metadata": {},
   "outputs": [],
   "source": []
  }
 ],
 "metadata": {
  "kernelspec": {
   "display_name": "Python [conda env:maps] *",
   "language": "python",
   "name": "conda-env-maps-py"
  },
  "language_info": {
   "codemirror_mode": {
    "name": "ipython",
    "version": 3
   },
   "file_extension": ".py",
   "mimetype": "text/x-python",
   "name": "python",
   "nbconvert_exporter": "python",
   "pygments_lexer": "ipython3",
   "version": "3.7.3"
  }
 },
 "nbformat": 4,
 "nbformat_minor": 2
}

{
 "cells": [
  {
   "cell_type": "code",
   "execution_count": null,
   "metadata": {},
   "outputs": [],
   "source": [
    "import os\n",
    "import pandas as pd\n",
    "import seaborn as sns\n",
    "import matplotlib.pyplot as plt\n",
    "%matplotlib inline\n",
    "\n",
    "sns.set_style(\"whitegrid\") "
   ]
  },
  {
   "cell_type": "markdown",
   "metadata": {},
   "source": [
    "# Read .csv files into one dataframe"
   ]
  },
  {
   "cell_type": "code",
   "execution_count": null,
   "metadata": {},
   "outputs": [],
   "source": [
    "df_inter = pd.read_csv('distances_inter.csv')\n",
    "df_intra = pd.read_csv('distances_intra.csv')\n",
    "df_nndmin = pd.read_csv('BIN_Dmin_NN.csv')\n",
    "df_dmax = pd.read_csv('BIN_Dmax.csv')\n",
    "df_spdmax = pd.read_csv('species_dmax.csv', usecols=[2])\n",
    "#df_nndmin2 = pd.read_csv('Dmin_NN2.csv')\n",
    "\n",
    "list_dfs = [df_intra, df_inter, df_nndmin, df_dmax, df_spdmax]\n",
    "\n",
    "df_all = pd.concat(list_dfs, axis=1)\n",
    "df_all"
   ]
  },
  {
   "cell_type": "markdown",
   "metadata": {},
   "source": [
    "## Calculate first, median and third quantiles"
   ]
  },
  {
   "cell_type": "code",
   "execution_count": null,
   "metadata": {},
   "outputs": [],
   "source": [
    "df_all.quantile([0.25,0.5,0.75])"
   ]
  },
  {
   "cell_type": "markdown",
   "metadata": {},
   "source": [
    "## Calculate means"
   ]
  },
  {
   "cell_type": "code",
   "execution_count": null,
   "metadata": {},
   "outputs": [],
   "source": [
    "df_all.mean()"
   ]
  },
  {
   "cell_type": "markdown",
   "metadata": {},
   "source": [
    "## Violinplot"
   ]
  },
  {
   "cell_type": "code",
   "execution_count": null,
   "metadata": {},
   "outputs": [],
   "source": [
    "f, ax = plt.subplots(figsize=(8, 4))\n",
    "\n",
    "sns.violinplot(data=df_all, palette=\"Set2\", order=[\"inter\",\"BIN_Dmin_NN\",\"BIN_Dmax\",\"dmax\",\"intra\"], orient='h',\n",
    "               width=.9, scale=\"width\", cut=0, inner=\"quartiles\", linewidth=1)\n",
    "#plt.ylim(0, .35)\n",
    "#plt.xlim(0, .6)\n",
    "f.suptitle('Pairwise distances', fontsize=14, fontweight='bold')\n",
    "ax.set_xlabel(\"P-distance\",size = 12,alpha=1)\n",
    "#ax.set_ylabel(\"K2P distance\",size = 12,alpha=1)\n",
    "ax.tick_params(labelsize=12)\n",
    "\n",
    "#plt.savefig('Grac_k2pdistances_violin1.png', dpi=300, bbox_inches=\"tight\")\n",
    "#plt.savefig('Grac_k2pdistances_violin1.svg', format='svg', dpi=300, bbox_inches='tight')\n",
    "plt.show()"
   ]
  }
 ],
 "metadata": {
  "kernelspec": {
   "display_name": "Python 3.7.3 64-bit ('maps': conda)",
   "language": "python",
   "name": "python37364bitmapsconda6e7da9c86225483eb4c75b156c2e4a81"
  },
  "language_info": {
   "codemirror_mode": {
    "name": "ipython",
    "version": 3
   },
   "file_extension": ".py",
   "mimetype": "text/x-python",
   "name": "python",
   "nbconvert_exporter": "python",
   "pygments_lexer": "ipython3",
   "version": "3.7.3"
  }
 },
 "nbformat": 4,
 "nbformat_minor": 2
}
